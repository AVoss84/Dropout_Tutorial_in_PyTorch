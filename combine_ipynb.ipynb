{
 "cells": [
  {
   "cell_type": "code",
   "execution_count": 2,
   "metadata": {
    "collapsed": true
   },
   "outputs": [],
   "source": [
    "import json\n",
    "from copy import deepcopy\n",
    "file_names = ['intro.ipynb',\n",
    "              'mnist/mnist_pytorch.ipynb', \n",
    "              'co2_regression/co2_regression_pytorch.ipynb']\n",
    "file_name = file_names[0]\n",
    "\n",
    "with open(file_names[0], 'r') as f:\n",
    "    merged = deepcopy(json.load(f))\n",
    "    \n",
    "for file_name in file_names[1:]:\n",
    "    with open(file_name, 'r') as f:\n",
    "        merged['cells'] = merged['cells'] + json.load(f)['cells']\n",
    "\n",
    "with open('index_raw.ipynb', 'w') as f:\n",
    "    json.dump(merged, f)"
   ]
  },
  {
   "cell_type": "code",
   "execution_count": null,
   "metadata": {
    "collapsed": true
   },
   "outputs": [],
   "source": []
  }
 ],
 "metadata": {
  "kernelspec": {
   "display_name": "Python 3",
   "language": "python",
   "name": "python3"
  },
  "language_info": {
   "codemirror_mode": {
    "name": "ipython",
    "version": 3
   },
   "file_extension": ".py",
   "mimetype": "text/x-python",
   "name": "python",
   "nbconvert_exporter": "python",
   "pygments_lexer": "ipython3",
   "version": "3.6.1"
  }
 },
 "nbformat": 4,
 "nbformat_minor": 2
}

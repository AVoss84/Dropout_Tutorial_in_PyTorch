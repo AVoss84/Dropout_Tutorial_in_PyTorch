{
 "cells": [
  {
   "cell_type": "markdown",
   "metadata": {},
   "source": [
    "## 3. Dropout as Regularization\n",
    "\n",
    "### Import necessary  libraries\n",
    "\n",
    "We use GPUs for deep learning. If you want to try our code in CPU, remove all `.cuda()` in the notebook."
   ]
  },
  {
   "cell_type": "code",
   "execution_count": 1,
   "metadata": {
    "collapsed": true
   },
   "outputs": [],
   "source": [
    "import warnings\n",
    "warnings.filterwarnings(\"ignore\")\n",
    "\n",
    "import numpy as np\n",
    "import pandas as pd\n",
    "import time\n",
    "from scipy.ndimage.interpolation import rotate\n",
    "\n",
    "import matplotlib\n",
    "import matplotlib.pyplot as plt\n",
    "import matplotlib.image as mpimg\n",
    "import matplotlib.gridspec as gridspec\n",
    "\n",
    "import seaborn as sns\n",
    "%matplotlib inline\n",
    "\n",
    "import torch\n",
    "import torchvision\n",
    "from torchvision import datasets\n",
    "from torchvision import transforms\n",
    "from torch.autograd import Variable\n",
    "import torch.nn as nn\n",
    "import torch.nn.functional as F\n",
    "import torch.optim as optim\n",
    "from torch.utils.data.sampler import SubsetRandomSampler\n",
    "\n",
    "import pickle\n",
    "\n",
    "class IO:\n",
    "    def __init__(self, file_name):\n",
    "        self.file_name = file_name\n",
    "        \n",
    "    def to_pickle(self, obj):\n",
    "        with open(self.file_name, 'wb') as output:\n",
    "            pickle.dump(obj, output, protocol=pickle.HIGHEST_PROTOCOL)\n",
    "    \n",
    "    def read_pickle(self):\n",
    "        with open(self.file_name, 'rb') as input_:\n",
    "            obj = pickle.load(input_)\n",
    "        return obj"
   ]
  },
  {
   "cell_type": "markdown",
   "metadata": {},
   "source": [
    "### Load MNIST Data"
   ]
  },
  {
   "cell_type": "code",
   "execution_count": 2,
   "metadata": {
    "collapsed": true
   },
   "outputs": [],
   "source": [
    "transform = transforms.Compose([transforms.ToTensor(), \\\n",
    "                                transforms.Normalize((0, 0, 0), (1, 1, 1))])\n",
    "\n",
    "trainset = datasets.MNIST(root='data/', train=True, download=True, transform=transform)\n",
    "testset = datasets.MNIST(root='data/', train=False, transform=transform)"
   ]
  },
  {
   "cell_type": "markdown",
   "metadata": {},
   "source": [
    "### Dropout Implementation\n",
    "\n",
    "We should multiply the dropout output by $\\frac{1}{1-p}$ where $p$ is the dropout rate to compensate for the dropped neurons. We implemented a dropout layer below, it should have same functionality as `nn.Dropout` in Pytorch."
   ]
  },
  {
   "cell_type": "code",
   "execution_count": 3,
   "metadata": {
    "collapsed": true
   },
   "outputs": [],
   "source": [
    "class MyDropout(nn.Module):\n",
    "    def __init__(self, p=0.5):\n",
    "        super(MyDropout, self).__init__()\n",
    "        self.p = p\n",
    "        if self.p < 1:\n",
    "            self.multiplier_ = 1.0 / (1.0-p)\n",
    "        else:\n",
    "            self.multiplier_ = 0.0\n",
    "    def forward(self, input):\n",
    "        if not self.training:\n",
    "            return input\n",
    "        selected_ = torch.Tensor(input.shape).uniform_(0,1)>self.p\n",
    "        #selected_num = torch.sum(selected_)\n",
    "        #if selected_num > 0:\n",
    "        #    multiplier_ = torch.numel(selected_)/selected_num\n",
    "        #else:\n",
    "        #    multiplier_ = 0\n",
    "        if input.is_cuda:\n",
    "            selected_ = Variable(selected_.type(torch.cuda.FloatTensor), requires_grad=False)\n",
    "        else:\n",
    "            selected_ = Variable(selected_.type(torch.FloatTensor), requires_grad=False)\n",
    "        return torch.mul(selected_,input) * self.multiplier_"
   ]
  },
  {
   "cell_type": "markdown",
   "metadata": {},
   "source": [
    "### Build the Network\n",
    "#### Standard feedforward neural network\n",
    "\n",
    "We first build a multilayer perceptron (MLP), and use the code below to build the network as described in the paper, including dropout, training (with mini-batch and SGD), and testing."
   ]
  },
  {
   "cell_type": "code",
   "execution_count": 4,
   "metadata": {
    "collapsed": true
   },
   "outputs": [],
   "source": [
    "class MLP(nn.Module):\n",
    "    def __init__(self, hidden_layers=[800, 800], droprates=[0, 0]):\n",
    "        super(MLP, self).__init__()\n",
    "        self.model = nn.Sequential()\n",
    "        self.model.add_module(\"dropout0\",MyDropout(p=droprates[0]))\n",
    "        self.model.add_module(\"input\", nn.Linear(28*28, hidden_layers[0]))\n",
    "        self.model.add_module(\"tanh\", nn.Tanh())\n",
    "        for i,d in enumerate(hidden_layers[:-1]):\n",
    "            self.model.add_module(\"dropout_hidden\"+str(i+1), MyDropout(p=droprates[1]))\n",
    "            self.model.add_module(\"hidden\"+str(i+1), nn.Linear(hidden_layers[i], hidden_layers[i+1]))\n",
    "            self.model.add_module(\"tanh_hidden\"+str(i+1), nn.Tanh())\n",
    "        self.model.add_module(\"final\",nn.Linear(hidden_layers[-1], 10))        \n",
    "        \n",
    "    def forward(self, x):\n",
    "        x = x.view(x.shape[0], 28*28)\n",
    "        x = self.model(x)\n",
    "        return x\n",
    "    \n",
    "class MLPClassifier:\n",
    "    def __init__(self, hidden_layers=[800, 800], droprates=[0, 0], batch_size=128, max_epoch=10, \\\n",
    "                 lr=0.1, momentum=0):\n",
    "        self.hidden_layers = hidden_layers\n",
    "        self.droprates = droprates\n",
    "        self.batch_size = batch_size\n",
    "        self.max_epoch = max_epoch\n",
    "        self.model = MLP(hidden_layers=hidden_layers, droprates=droprates)\n",
    "        self.model.cuda()\n",
    "        self.criterion = nn.CrossEntropyLoss().cuda()\n",
    "        self.optimizer = optim.SGD(self.model.parameters(), lr=lr, momentum=momentum)\n",
    "        self.loss_ = []\n",
    "        self.test_accuracy = []\n",
    "        self.test_error = []\n",
    "        \n",
    "    def fit(self, trainset, testset, verbose=True):\n",
    "        trainloader = torch.utils.data.DataLoader(trainset, batch_size=self.batch_size, shuffle=True)\n",
    "        testloader = torch.utils.data.DataLoader(testset, batch_size=len(testset), shuffle=False)\n",
    "        X_test, y_test = iter(testloader).next()\n",
    "        X_test = X_test.cuda()\n",
    "        for epoch in range(self.max_epoch):\n",
    "            running_loss = 0\n",
    "            for i, data in enumerate(trainloader, 0):\n",
    "                inputs, labels = data\n",
    "                inputs, labels = Variable(inputs).cuda(), Variable(labels).cuda()\n",
    "                self.optimizer.zero_grad()\n",
    "                outputs = self.model(inputs)\n",
    "                loss = self.criterion(outputs, labels)\n",
    "                loss.backward()\n",
    "                self.optimizer.step()\n",
    "                running_loss += loss.data[0]\n",
    "            self.loss_.append(running_loss / len(trainloader))\n",
    "            if verbose:\n",
    "                print('Epoch {} loss: {}'.format(epoch+1, self.loss_[-1]))\n",
    "            y_test_pred = self.predict(X_test).cpu()\n",
    "            self.test_accuracy.append(np.mean(y_test == y_test_pred))\n",
    "            self.test_error.append(int(len(testset)*(1-self.test_accuracy[-1])))\n",
    "            if verbose:\n",
    "                print('Test error: {}; test accuracy: {}'.format(self.test_error[-1], self.test_accuracy[-1]))\n",
    "        return self\n",
    "    \n",
    "    def predict(self, x):\n",
    "        model = self.model.eval()\n",
    "        outputs = model(Variable(x))\n",
    "        _, pred = torch.max(outputs.data, 1)\n",
    "        model = self.model.train()\n",
    "        return pred\n",
    "    \n",
    "    def __str__(self):\n",
    "        return 'Hidden layers: {}; dropout rates: {}'.format(self.hidden_layers, self.droprates)"
   ]
  },
  {
   "cell_type": "markdown",
   "metadata": {},
   "source": [
    "The paper tried three networks. One with no dropout, one with dropout in hidden layers and one with dropout in both hidden layers and input. The training takes really long time. We recommend using GPU to reproduce our results.\n",
    "\n",
    "You can set `verbose=True` to see loss and accuracy of each epoch."
   ]
  },
  {
   "cell_type": "code",
   "execution_count": 5,
   "metadata": {
    "collapsed": true
   },
   "outputs": [],
   "source": [
    "hidden_layers = [800, 800]\n",
    "mlp1 = [MLPClassifier(hidden_layers, droprates=[0, 0], max_epoch=3), \n",
    "        MLPClassifier(hidden_layers, droprates=[0, 0.5], max_epoch=3),\n",
    "        MLPClassifier(hidden_layers, droprates=[0.2, 0.5], max_epoch=3)]"
   ]
  },
  {
   "cell_type": "code",
   "execution_count": 6,
   "metadata": {},
   "outputs": [
    {
     "name": "stdout",
     "output_type": "stream",
     "text": [
      "MLP(\n",
      "  (model): Sequential(\n",
      "    (dropout0): MyDropout(\n",
      "    )\n",
      "    (input): Linear(in_features=784, out_features=800)\n",
      "    (tanh): Tanh()\n",
      "    (dropout_hidden1): MyDropout(\n",
      "    )\n",
      "    (hidden1): Linear(in_features=800, out_features=800)\n",
      "    (tanh_hidden1): Tanh()\n",
      "    (final): Linear(in_features=800, out_features=10)\n",
      "  )\n",
      ")\n"
     ]
    }
   ],
   "source": [
    "print(mlp1[0].model)\n",
    "mlp1[0].fit(trainset, testset,verbose=False);\n",
    "IO('results/mnist_mlp1_0.pkl').to_pickle(mlp1[0].model)"
   ]
  },
  {
   "cell_type": "code",
   "execution_count": 7,
   "metadata": {},
   "outputs": [
    {
     "name": "stdout",
     "output_type": "stream",
     "text": [
      "MLP(\n",
      "  (model): Sequential(\n",
      "    (dropout0): MyDropout(\n",
      "    )\n",
      "    (input): Linear(in_features=784, out_features=800)\n",
      "    (tanh): Tanh()\n",
      "    (dropout_hidden1): MyDropout(\n",
      "    )\n",
      "    (hidden1): Linear(in_features=800, out_features=800)\n",
      "    (tanh_hidden1): Tanh()\n",
      "    (final): Linear(in_features=800, out_features=10)\n",
      "  )\n",
      ")\n"
     ]
    }
   ],
   "source": [
    "print(mlp1[1].model)\n",
    "mlp1[1].fit(trainset, testset,verbose=False);\n",
    "IO('results/mnist_mlp1_1.pkl').to_pickle(mlp1[1].model)"
   ]
  },
  {
   "cell_type": "code",
   "execution_count": 8,
   "metadata": {},
   "outputs": [
    {
     "name": "stdout",
     "output_type": "stream",
     "text": [
      "MLP(\n",
      "  (model): Sequential(\n",
      "    (dropout0): MyDropout(\n",
      "    )\n",
      "    (input): Linear(in_features=784, out_features=800)\n",
      "    (tanh): Tanh()\n",
      "    (dropout_hidden1): MyDropout(\n",
      "    )\n",
      "    (hidden1): Linear(in_features=800, out_features=800)\n",
      "    (tanh_hidden1): Tanh()\n",
      "    (final): Linear(in_features=800, out_features=10)\n",
      "  )\n",
      ")\n"
     ]
    }
   ],
   "source": [
    "print(mlp1[2].model)\n",
    "mlp1[2].fit(trainset, testset,verbose=False);\n",
    "IO('results/mnist_mlp1_2.pkl').to_pickle(mlp1[2].model)"
   ]
  },
  {
   "cell_type": "code",
   "execution_count": 9,
   "metadata": {
    "collapsed": true
   },
   "outputs": [],
   "source": [
    "results = [(mlp.loss_, mlp.test_accuracy, mlp.test_error) for mlp in mlp1]\n",
    "IO('results/mnist_mlp1_errors.pkl').to_pickle(results)"
   ]
  },
  {
   "cell_type": "markdown",
   "metadata": {},
   "source": [
    "#### Convolutional neural network\n",
    "\n",
    "We then build a LeNet."
   ]
  },
  {
   "cell_type": "code",
   "execution_count": 10,
   "metadata": {},
   "outputs": [
    {
     "name": "stdout",
     "output_type": "stream",
     "text": [
      "[28, 28, 14, 14, 7]\n"
     ]
    }
   ],
   "source": [
    "def caloutdim(hin, kernel_size, stride=1, padding=0, dilation=1):\n",
    "    return int(np.floor((hin+2*padding-dilation*(kernel_size-1)-1)/stride+1))\n",
    "\n",
    "d = [28]\n",
    "d.append(caloutdim(d[-1], 5, padding=2))\n",
    "d.append(caloutdim(d[-1], 2, 2))\n",
    "d.append(caloutdim(d[-1], 5, padding=2))\n",
    "d.append(caloutdim(d[-1], 2, 2))\n",
    "print(d)"
   ]
  },
  {
   "cell_type": "code",
   "execution_count": 5,
   "metadata": {
    "collapsed": true
   },
   "outputs": [],
   "source": [
    "class Flatten(nn.Module):\n",
    "    def __init__(self):\n",
    "        super(Flatten, self).__init__()\n",
    "\n",
    "    def forward(self, x):\n",
    "        x = x.view(x.size(0), -1)\n",
    "        return x\n",
    "\n",
    "class LeNet(nn.Module):\n",
    "    def __init__(self, droprate=0.5):\n",
    "        super(LeNet, self).__init__()\n",
    "        self.model = nn.Sequential()\n",
    "        self.model.add_module('conv1', nn.Conv2d(1, 20, kernel_size=5, padding=2))\n",
    "        self.model.add_module('dropout1', nn.Dropout2d(p=droprate))\n",
    "        self.model.add_module('maxpool1', nn.MaxPool2d(2, stride=2))\n",
    "        self.model.add_module('conv2', nn.Conv2d(20, 50, kernel_size=5, padding=2))\n",
    "        self.model.add_module('dropout2', nn.Dropout2d(p=droprate))\n",
    "        self.model.add_module('maxpool2', nn.MaxPool2d(2, stride=2))\n",
    "        self.model.add_module('flatten', Flatten())\n",
    "        self.model.add_module('dense3', nn.Linear(50*7*7, 500))\n",
    "        self.model.add_module('relu3', nn.ReLU())\n",
    "        self.model.add_module('dropout3', nn.Dropout(p=droprate))\n",
    "        self.model.add_module('final', nn.Linear(500, 10))\n",
    "        \n",
    "    def forward(self, x):\n",
    "        return self.model(x)\n",
    "    \n",
    "class LeNetClassifier:\n",
    "    def __init__(self, droprate=0.5, batch_size=128, max_epoch=300, lr=0.01):\n",
    "        self.batch_size = batch_size\n",
    "        self.max_epoch = max_epoch\n",
    "        self.lr = lr\n",
    "        self.model = LeNet(droprate)\n",
    "        self.model.cuda()\n",
    "        self.criterion = nn.CrossEntropyLoss().cuda()\n",
    "        self.optimizer = optim.SGD(self.model.parameters(), lr=lr)\n",
    "        self.loss_ = []\n",
    "        self.test_error = []\n",
    "        self.test_accuracy = []\n",
    "        \n",
    "    def fit(self, trainset, testset, verbose=True):\n",
    "        trainloader = torch.utils.data.DataLoader(trainset, batch_size=self.batch_size, shuffle=True)\n",
    "        testloader = torch.utils.data.DataLoader(testset, batch_size=len(testset), shuffle=False)\n",
    "        X_test, y_test = iter(testloader).next()\n",
    "        X_test = X_test.cuda()\n",
    "        print(self.model)\n",
    "        for epoch in range(self.max_epoch):\n",
    "            running_loss = 0\n",
    "            for i, data in enumerate(trainloader, 0):\n",
    "                inputs, labels = data\n",
    "                inputs, labels = Variable(inputs).cuda(), Variable(labels).cuda()\n",
    "                self.optimizer.zero_grad()\n",
    "                outputs = self.model(inputs)\n",
    "                loss = self.criterion(outputs, labels)\n",
    "                loss.backward()\n",
    "                self.optimizer.step()\n",
    "                running_loss += loss.data[0]\n",
    "            self.loss_.append(running_loss / len(trainloader))\n",
    "            if verbose:\n",
    "                print('Epoch {} loss: {}'.format(epoch+1, self.loss_[-1]))\n",
    "            y_test_pred = self.predict(X_test).cpu()\n",
    "            self.test_accuracy.append(np.mean(y_test == y_test_pred))\n",
    "            self.test_error.append(int(len(testset)*(1-self.test_accuracy[-1])))\n",
    "            if verbose:\n",
    "                print('Test error: {}; test accuracy: {}'.format(self.test_error[-1], self.test_accuracy[-1]))\n",
    "        return self\n",
    "    \n",
    "    def predict(self, x):\n",
    "        model = self.model.eval()\n",
    "        outputs = model(Variable(x))\n",
    "        _, pred = torch.max(outputs.data, 1)\n",
    "        model = self.model.train()\n",
    "        return pred"
   ]
  },
  {
   "cell_type": "code",
   "execution_count": 12,
   "metadata": {
    "collapsed": true
   },
   "outputs": [],
   "source": [
    "lenet1 = [LeNetClassifier(droprate=0, max_epoch=3),\n",
    "          LeNetClassifier(droprate=0.5, max_epoch=3)]"
   ]
  },
  {
   "cell_type": "code",
   "execution_count": 13,
   "metadata": {},
   "outputs": [
    {
     "name": "stdout",
     "output_type": "stream",
     "text": [
      "LeNet(\n",
      "  (model): Sequential(\n",
      "    (conv1): Conv2d (1, 20, kernel_size=(5, 5), stride=(1, 1), padding=(2, 2))\n",
      "    (dropout1): Dropout2d(p=0)\n",
      "    (maxpool1): MaxPool2d(kernel_size=(2, 2), stride=(2, 2), dilation=(1, 1))\n",
      "    (conv2): Conv2d (20, 50, kernel_size=(5, 5), stride=(1, 1), padding=(2, 2))\n",
      "    (dropout2): Dropout2d(p=0)\n",
      "    (maxpool2): MaxPool2d(kernel_size=(2, 2), stride=(2, 2), dilation=(1, 1))\n",
      "    (flatten): Flatten(\n",
      "    )\n",
      "    (dense3): Linear(in_features=2450, out_features=500)\n",
      "    (relu3): ReLU()\n",
      "    (dropout3): Dropout(p=0)\n",
      "    (final): Linear(in_features=500, out_features=10)\n",
      "  )\n",
      ")\n"
     ]
    }
   ],
   "source": [
    "lenet1[0].fit(trainset, testset, verbose=False);\n",
    "IO('results/mnist_lenet1_0.pkl').to_pickle(lenet1[0].model)"
   ]
  },
  {
   "cell_type": "code",
   "execution_count": 14,
   "metadata": {},
   "outputs": [
    {
     "name": "stdout",
     "output_type": "stream",
     "text": [
      "LeNet(\n",
      "  (model): Sequential(\n",
      "    (conv1): Conv2d (1, 20, kernel_size=(5, 5), stride=(1, 1), padding=(2, 2))\n",
      "    (dropout1): Dropout2d(p=0.5)\n",
      "    (maxpool1): MaxPool2d(kernel_size=(2, 2), stride=(2, 2), dilation=(1, 1))\n",
      "    (conv2): Conv2d (20, 50, kernel_size=(5, 5), stride=(1, 1), padding=(2, 2))\n",
      "    (dropout2): Dropout2d(p=0.5)\n",
      "    (maxpool2): MaxPool2d(kernel_size=(2, 2), stride=(2, 2), dilation=(1, 1))\n",
      "    (flatten): Flatten(\n",
      "    )\n",
      "    (dense3): Linear(in_features=2450, out_features=500)\n",
      "    (relu3): ReLU()\n",
      "    (dropout3): Dropout(p=0.5)\n",
      "    (final): Linear(in_features=500, out_features=10)\n",
      "  )\n",
      ")\n"
     ]
    }
   ],
   "source": [
    "lenet1[1].fit(trainset, testset, verbose=False);\n",
    "IO('results/mnist_lenet1_1.pkl').to_pickle(lenet1[1].model)"
   ]
  },
  {
   "cell_type": "code",
   "execution_count": 15,
   "metadata": {
    "collapsed": true
   },
   "outputs": [],
   "source": [
    "results = [(lenet.loss_, lenet.test_accuracy, lenet.test_error) for lenet in lenet1]\n",
    "IO('results/mnist_lenet1_errors.pkl').to_pickle(results)"
   ]
  },
  {
   "cell_type": "markdown",
   "metadata": {},
   "source": [
    "### Results"
   ]
  },
  {
   "cell_type": "code",
   "execution_count": 6,
   "metadata": {},
   "outputs": [
    {
     "data": {
      "image/png": "[encoded data removed]",
      "text/plain": [
       "<matplotlib.figure.Figure at 0x7f37a94cb9b0>"
      ]
     },
     "metadata": {},
     "output_type": "display_data"
    }
   ],
   "source": [
    "results = IO('results/mnist_mlp1_errors.pkl').read_pickle()\\\n",
    "+ IO('results/mnist_lenet1_errors.pkl').read_pickle()\n",
    "labels = ['MLP no dropout', \n",
    "          'MLP 50% dropout in hidden layers', \n",
    "          'MLP 50% dropout in hidden layers + 20% in input layer',\n",
    "          'LeNet no dropout',\n",
    "          'LeNet 50% dropout']\n",
    "\n",
    "plt.figure(figsize=(8, 7))\n",
    "for i, r in enumerate(results):\n",
    "    plt.plot(range(1, len(r[2])+1), r[2], '.-', label=labels[i], alpha=0.6);\n",
    "plt.ylim([0, 250]);\n",
    "plt.legend(loc=1);\n",
    "plt.xlabel('Epochs');\n",
    "plt.ylabel('Number of errors');\n",
    "plt.title('Test error on MNIST dataset');"
   ]
  },
  {
   "cell_type": "markdown",
   "metadata": {},
   "source": [
    "The result above is similar to what is described in the paper. As we can see, dropout works."
   ]
  },
  {
   "cell_type": "markdown",
   "metadata": {},
   "source": [
    "## 4. Dropout as Bayesian Approximation\n",
    "It is shown that deep NNs with dropout applied before every weight layer are mathematically equivalent to approximate variational inference in the deep Gaussian process marginalised over its covariance function parameters (Yarin Gal et al). \n",
    "\n",
    "The related Gaussian process could be described as below:\n",
    "\n",
    "$$F \\vert X, W_1, b \\sim N(0, K(X,X))$$\n",
    "$$Y \\vert F \\sim N(F, \\tau^{-1}I_N)$$\n",
    "Introduing $W_1$, which is a matrix parameterizing the covariance function K:\n",
    "$$ p(Y\\vert X) = \\int p(Y\\vert F)p(F\\vert W_1, b, X)p(W_1)p(b)$$\n",
    "Introduing $W_2$, another matrix that get the integration rid of F:\n",
    "$$ p(Y\\vert X) = \\int p(Y\\vert X, W_1, W_2, b)p(W_1)p(W_2)p(b)$$\n",
    "To perform variational inference in our approximate model we need to define a variational distribution $q(W_1, W_2, b) := q(W_1)q(W_2)q(b)$, where $q(W_1)$ and $q(W_2)$ are defined as a Gaussian mixture model with two components, factorized over dimensinality of $W_1$ and $W_2$. For example: \n",
    "\n",
    "$$q(W_1) = \\prod_{q=1}^{Q}q(w_q) $$\n",
    "$$ q(w_q) = p_1N(m_q, \\sigma^2I_K) + (1-p_1)N(0,\\sigma^2I_K)$$\n",
    "\n",
    "with some probability p1 ∈ [0, 1], scalar σ > 0 and $m_q ∈ R^K $\n",
    "\n",
    "In dropout model, the input was weighted by some weight matrix and then pass into some non-linear function, which is the same as what we did with the parameterizing matrix and covariance function. The output of the non-linear function would be the input of the next hidden layer. When we implement dropout, we actually created a binary vector to decide which hidden unit would be passed to the next layer, which is similar to what we did for the variational inference. With this setup, we update the parameters by minimizing some loss function we choose, just as minimizing KL divergence in Gaussian process approximation.\n"
   ]
  },
  {
   "cell_type": "markdown",
   "metadata": {},
   "source": [
    "### 4.1. Dropout as Bayesian Approximation in Classification Task"
   ]
  },
  {
   "cell_type": "code",
   "execution_count": 7,
   "metadata": {},
   "outputs": [
    {
     "data": {
      "image/png": "[encoded data removed]",
      "text/plain": [
       "<matplotlib.figure.Figure at 0x7f37a8c15b70>"
      ]
     },
     "metadata": {},
     "output_type": "display_data"
    }
   ],
   "source": [
    "testloader = torch.utils.data.DataLoader(testset, batch_size=len(testset), shuffle=False)\n",
    "X_test, y_test = iter(testloader).next()\n",
    "X_test = X_test.numpy()\n",
    "X1 = np.array([rotate(X_test[9978].squeeze(), i, reshape=False) for i in range(60, 120, 5)])\n",
    "X1 = X1.reshape(X1.shape[0], 1, X1.shape[1], X1.shape[2])\n",
    "\n",
    "plt.figure(figsize=(8, 1))\n",
    "\n",
    "gs = gridspec.GridSpec(1, 12)\n",
    "gs.update(wspace=0, hspace=0)\n",
    "\n",
    "for i in range(len(X1)):\n",
    "    plt.subplot(gs[i])\n",
    "    plt.imshow(X1.squeeze()[i], cmap='gray');\n",
    "    plt.axis('off');"
   ]
  },
  {
   "cell_type": "code",
   "execution_count": 8,
   "metadata": {
    "collapsed": true
   },
   "outputs": [],
   "source": [
    "def predict_class(model, X):\n",
    "    model = model.eval()\n",
    "    outputs = model(Variable(X.cuda()))\n",
    "    _, pred = torch.max(outputs.data, 1)\n",
    "    model = model.train()\n",
    "    return pred.cpu().numpy()\n",
    "\n",
    "def predict(model, X, T=1000):\n",
    "    standard_pred = predict_class(model, X)\n",
    "    y1 = []\n",
    "    y2 = []\n",
    "    for _ in range(T):\n",
    "        _y1 = model(Variable(X.cuda())).cpu()\n",
    "        _y2 = F.softmax(_y1, dim=1)\n",
    "        y1.append(_y1.data.numpy())\n",
    "        y2.append(_y2.data.numpy())\n",
    "    return standard_pred, np.array(y1), np.array(y2)"
   ]
  },
  {
   "cell_type": "markdown",
   "metadata": {},
   "source": [
    "#### MLP 50% dropout in hidden layers"
   ]
  },
  {
   "cell_type": "code",
   "execution_count": 9,
   "metadata": {},
   "outputs": [
    {
     "name": "stdout",
     "output_type": "stream",
     "text": [
      "[3 3 3 5 5 5 5 4 4 4 4 4]\n"
     ]
    }
   ],
   "source": [
    "model = IO('results/mnist_mlp1_1.pkl').read_pickle()\n",
    "y1_pred, y1_si, y1_so = predict(model, torch.from_numpy(X1))\n",
    "print(y1_pred)"
   ]
  },
  {
   "cell_type": "code",
   "execution_count": 10,
   "metadata": {},
   "outputs": [
    {
     "data": {
      "image/png": "[encoded data removed]",
      "text/plain": [
       "<matplotlib.figure.Figure at 0x7f37a81982e8>"
      ]
     },
     "metadata": {},
     "output_type": "display_data"
    }
   ],
   "source": [
    "plt.figure(figsize=(10, 3))\n",
    "plt.subplot(1, 2, 1)\n",
    "plt.scatter(np.tile(np.arange(1, 13), y1_si.shape[0]), y1_si[:, :, 1].flatten(), \\\n",
    "            color='g', marker='_', linewidth=None, alpha=0.5, label='1');\n",
    "plt.scatter(np.tile(np.arange(1, 13), y1_si.shape[0]), y1_si[:, :, 7].flatten(), \\\n",
    "            color='r', marker='_', linewidth=None, alpha=0.5, label='7');\n",
    "plt.scatter(np.tile(np.arange(1, 13), y1_si.shape[0]), y1_si[:, :, 2].flatten(), \\\n",
    "            color='b', marker='_', linewidth=None, alpha=0.5, label='2');\n",
    "plt.title('Softmax input scatter');\n",
    "plt.legend(framealpha=0.7);\n",
    "\n",
    "plt.subplot(1, 2, 2)\n",
    "plt.scatter(np.tile(np.arange(1, 13), y1_so.shape[0]), y1_so[:, :, 1].flatten(), \\\n",
    "            color='g', marker='_', linewidth=None, alpha=0.5, label='1');\n",
    "plt.scatter(np.tile(np.arange(1, 13), y1_so.shape[0]), y1_so[:, :, 7].flatten(), \\\n",
    "            color='r', marker='_', linewidth=None, alpha=0.5, label='7');\n",
    "plt.scatter(np.tile(np.arange(1, 13), y1_so.shape[0]), y1_so[:, :, 2].flatten(), \\\n",
    "            color='b', marker='_', linewidth=None, alpha=0.5, label='2');\n",
    "plt.title('Softmax output scatter');\n",
    "plt.legend(framealpha=0.7);\n",
    "\n",
    "plt.tight_layout();"
   ]
  },
  {
   "cell_type": "markdown",
   "metadata": {},
   "source": [
    "#### MLP 50% dropout in hidden layers + 20% in input layer"
   ]
  },
  {
   "cell_type": "code",
   "execution_count": 11,
   "metadata": {},
   "outputs": [
    {
     "name": "stdout",
     "output_type": "stream",
     "text": [
      "[3 3 3 5 5 5 5 5 4 4 4 4]\n"
     ]
    }
   ],
   "source": [
    "model = IO('results/mnist_mlp1_2.pkl').read_pickle()\n",
    "y1_pred, y1_si, y1_so = predict(model, torch.from_numpy(X1))\n",
    "print(y1_pred)"
   ]
  },
  {
   "cell_type": "code",
   "execution_count": 12,
   "metadata": {},
   "outputs": [
    {
     "data": {
      "image/png": "[encoded data removed]",
      "text/plain": [
       "<matplotlib.figure.Figure at 0x7f37a8c157b8>"
      ]
     },
     "metadata": {},
     "output_type": "display_data"
    }
   ],
   "source": [
    "plt.figure(figsize=(10, 3))\n",
    "plt.subplot(1, 2, 1)\n",
    "plt.scatter(np.tile(np.arange(1, 13), y1_si.shape[0]), y1_si[:, :, 1].flatten(), \\\n",
    "            color='g', marker='_', linewidth=None, alpha=0.5, label='1');\n",
    "plt.scatter(np.tile(np.arange(1, 13), y1_si.shape[0]), y1_si[:, :, 7].flatten(), \\\n",
    "            color='r', marker='_', linewidth=None, alpha=0.5, label='7');\n",
    "plt.scatter(np.tile(np.arange(1, 13), y1_si.shape[0]), y1_si[:, :, 2].flatten(), \\\n",
    "            color='b', marker='_', linewidth=None, alpha=0.5, label='2');\n",
    "plt.title('Softmax input scatter');\n",
    "plt.legend(framealpha=0.7);\n",
    "\n",
    "plt.subplot(1, 2, 2)\n",
    "plt.scatter(np.tile(np.arange(1, 13), y1_so.shape[0]), y1_so[:, :, 1].flatten(), \\\n",
    "            color='g', marker='_', linewidth=None, alpha=0.5, label='1');\n",
    "plt.scatter(np.tile(np.arange(1, 13), y1_so.shape[0]), y1_so[:, :, 7].flatten(), \\\n",
    "            color='r', marker='_', linewidth=None, alpha=0.5, label='7');\n",
    "plt.scatter(np.tile(np.arange(1, 13), y1_so.shape[0]), y1_so[:, :, 2].flatten(), \\\n",
    "            color='b', marker='_', linewidth=None, alpha=0.5, label='2');\n",
    "plt.title('Softmax output scatter');\n",
    "plt.legend(framealpha=0.7);\n",
    "\n",
    "plt.tight_layout();"
   ]
  },
  {
   "cell_type": "markdown",
   "metadata": {},
   "source": [
    "#### LeNet 50% dropout"
   ]
  },
  {
   "cell_type": "code",
   "execution_count": 13,
   "metadata": {},
   "outputs": [
    {
     "name": "stdout",
     "output_type": "stream",
     "text": [
      "[3 3 3 3 3 3 3 7 7 4 4 4]\n"
     ]
    }
   ],
   "source": [
    "model = IO('results/mnist_lenet1_1.pkl').read_pickle()\n",
    "y1_pred, y1_si, y1_so = predict(model, torch.from_numpy(X1))\n",
    "print(y1_pred)"
   ]
  },
  {
   "cell_type": "code",
   "execution_count": 14,
   "metadata": {},
   "outputs": [
    {
     "data": {
      "image/png": "[encoded data removed]",
      "text/plain": [
       "<matplotlib.figure.Figure at 0x7f37202b3e48>"
      ]
     },
     "metadata": {},
     "output_type": "display_data"
    }
   ],
   "source": [
    "plt.figure(figsize=(10, 3))\n",
    "plt.subplot(1, 2, 1)\n",
    "plt.scatter(np.tile(np.arange(1, 13), y1_si.shape[0]), y1_si[:, :, 1].flatten(), \\\n",
    "            color='g', marker='_', linewidth=None, alpha=0.5, label='1');\n",
    "plt.scatter(np.tile(np.arange(1, 13), y1_si.shape[0]), y1_si[:, :, 7].flatten(), \\\n",
    "            color='r', marker='_', linewidth=None, alpha=0.5, label='7');\n",
    "plt.scatter(np.tile(np.arange(1, 13), y1_si.shape[0]), y1_si[:, :, 2].flatten(), \\\n",
    "            color='b', marker='_', linewidth=None, alpha=0.5, label='2');\n",
    "plt.title('Softmax input scatter');\n",
    "plt.legend(framealpha=0.7);\n",
    "\n",
    "plt.subplot(1, 2, 2)\n",
    "plt.scatter(np.tile(np.arange(1, 13), y1_so.shape[0]), y1_so[:, :, 1].flatten(), \\\n",
    "            color='g', marker='_', linewidth=None, alpha=0.5, label='1');\n",
    "plt.scatter(np.tile(np.arange(1, 13), y1_so.shape[0]), y1_so[:, :, 7].flatten(), \\\n",
    "            color='r', marker='_', linewidth=None, alpha=0.5, label='7');\n",
    "plt.scatter(np.tile(np.arange(1, 13), y1_so.shape[0]), y1_so[:, :, 2].flatten(), \\\n",
    "            color='b', marker='_', linewidth=None, alpha=0.5, label='2');\n",
    "plt.title('Softmax output scatter');\n",
    "plt.legend(framealpha=0.7);\n",
    "\n",
    "plt.tight_layout();"
   ]
  }
 ],
 "metadata": {
  "kernelspec": {
   "display_name": "Python 3",
   "language": "python",
   "name": "python3"
  },
  "language_info": {
   "codemirror_mode": {
    "name": "ipython",
    "version": 3
   },
   "file_extension": ".py",
   "mimetype": "text/x-python",
   "name": "python",
   "nbconvert_exporter": "python",
   "pygments_lexer": "ipython3",
   "version": "3.6.3"
  }
 },
 "nbformat": 4,
 "nbformat_minor": 2
}

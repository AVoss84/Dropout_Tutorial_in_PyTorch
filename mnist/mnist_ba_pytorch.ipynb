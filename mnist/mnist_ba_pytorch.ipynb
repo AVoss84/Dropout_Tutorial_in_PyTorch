{
 "cells": [
  {
   "cell_type": "code",
   "execution_count": 1,
   "metadata": {
    "collapsed": true
   },
   "outputs": [],
   "source": [
    "import numpy as np\n",
    "import pandas as pd\n",
    "import time\n",
    "from scipy.ndimage.interpolation import rotate\n",
    "\n",
    "import matplotlib\n",
    "import matplotlib.pyplot as plt\n",
    "import matplotlib.image as mpimg\n",
    "import matplotlib.gridspec as gridspec\n",
    "\n",
    "import seaborn as sns\n",
    "%matplotlib inline\n",
    "\n",
    "import torch\n",
    "import torchvision\n",
    "from torchvision import datasets\n",
    "from torchvision import transforms\n",
    "from torch.autograd import Variable\n",
    "import torch.nn as nn\n",
    "import torch.nn.functional as F\n",
    "import torch.optim as optim\n",
    "from torch.utils.data.sampler import SubsetRandomSampler"
   ]
  },
  {
   "cell_type": "code",
   "execution_count": 2,
   "metadata": {},
   "outputs": [],
   "source": [
    "transform = transforms.Compose([transforms.ToTensor(), \\\n",
    "                                transforms.Normalize((0, 0, 0), (1, 1, 1))])\n",
    "\n",
    "trainset = datasets.MNIST(root='data/', train=True, download=True, transform=transform)\n",
    "testset = datasets.MNIST(root='data/', train=False, transform=transform)\n",
    "\n",
    "testloader = torch.utils.data.DataLoader(testset, batch_size=len(testset), shuffle=False)\n",
    "X_test, y_test = iter(testloader).next()\n",
    "X_test = X_test.numpy()\n",
    "X1 = np.array([rotate(X_test[9978].squeeze(), i, reshape=False) for i in range(60, 120, 5)])\n",
    "X1 = X1.reshape(X1.shape[0], 1, X1.shape[1], X1.shape[2])"
   ]
  },
  {
   "cell_type": "code",
   "execution_count": 3,
   "metadata": {},
   "outputs": [
    {
     "data": {
      "text/plain": [
       "[28, 28, 14, 14, 7]"
      ]
     },
     "execution_count": 3,
     "metadata": {},
     "output_type": "execute_result"
    }
   ],
   "source": [
    "def caloutdim(hin, kernel_size, stride=1, padding=0, dilation=1):\n",
    "    return int(np.floor((hin+2*padding-dilation*(kernel_size-1)-1)/stride+1))\n",
    "\n",
    "d = [28]\n",
    "d.append(caloutdim(d[-1], 5, padding=2))\n",
    "d.append(caloutdim(d[-1], 2, 2))\n",
    "d.append(caloutdim(d[-1], 5, padding=2))\n",
    "d.append(caloutdim(d[-1], 2, 2))\n",
    "d"
   ]
  },
  {
   "cell_type": "code",
   "execution_count": 4,
   "metadata": {
    "collapsed": true
   },
   "outputs": [],
   "source": [
    "class Flatten(nn.Module):\n",
    "    def __init__(self):\n",
    "        super(Flatten, self).__init__()\n",
    "\n",
    "    def forward(self, x):\n",
    "        x = x.view(x.size(0), -1)\n",
    "        return x\n",
    "\n",
    "class LeNet(nn.Module):\n",
    "    def __init__(self, droprate=0.5):\n",
    "        super(LeNet, self).__init__()\n",
    "        self.model = nn.Sequential()\n",
    "        self.model.add_module('conv1', nn.Conv2d(1, 20, kernel_size=5, padding=2))\n",
    "        self.model.add_module('dropout1', nn.Dropout2d(p=droprate))\n",
    "        self.model.add_module('maxpool1', nn.MaxPool2d(2, stride=2))\n",
    "        self.model.add_module('conv2', nn.Conv2d(20, 50, kernel_size=5, padding=2))\n",
    "        self.model.add_module('dropout2', nn.Dropout2d(p=droprate))\n",
    "        self.model.add_module('maxpool2', nn.MaxPool2d(2, stride=2))\n",
    "        self.model.add_module('flatten', Flatten())\n",
    "        self.model.add_module('dense3', nn.Linear(50*7*7, 500))\n",
    "        self.model.add_module('relu3', nn.ReLU())\n",
    "        self.model.add_module('dropout3', nn.Dropout(p=droprate))\n",
    "        self.model.add_module('final', nn.Linear(500, 10))\n",
    "        \n",
    "    def forward(self, x):\n",
    "        return self.model(x)\n",
    "    \n",
    "class LeNetClassifier:\n",
    "    def __init__(self, droprate=0.5, batch_size=64, max_epoch=300, lr=0.01):\n",
    "        self.batch_size = batch_size\n",
    "        self.max_epoch = max_epoch\n",
    "        self.lr = lr\n",
    "        self.model = LeNet(droprate)\n",
    "        self.model.cuda()\n",
    "        self.criterion = nn.CrossEntropyLoss().cuda()\n",
    "        self.optimizer = optim.SGD(self.model.parameters(), lr=lr)\n",
    "        self.loss_ = []\n",
    "        \n",
    "    def fit(self, trainset, verbose=True):\n",
    "        trainloader = torch.utils.data.DataLoader(trainset, batch_size=self.batch_size, shuffle=True)\n",
    "        print(self.model)\n",
    "        for epoch in range(self.max_epoch):\n",
    "            running_loss = 0\n",
    "            for i, data in enumerate(trainloader, 0):\n",
    "                inputs, labels = data\n",
    "                inputs, labels = Variable(inputs).cuda(), Variable(labels).cuda()\n",
    "                self.optimizer.zero_grad()\n",
    "                outputs = self.model(inputs)\n",
    "                loss = self.criterion(outputs, labels)\n",
    "                loss.backward()\n",
    "                self.optimizer.step()\n",
    "                running_loss += loss.data[0]\n",
    "            self.loss_.append(running_loss / len(trainloader))\n",
    "            if verbose and ((epoch+1) % (self.max_epoch//10) == 0 or epoch == 0):\n",
    "                print('Epoch {} loss: {}'.format(epoch+1, self.loss_[-1]))\n",
    "        return self\n",
    "    \n",
    "def predict_class(model, X):\n",
    "    model = model.eval()\n",
    "    outputs = model(Variable(X.cuda()))\n",
    "    _, pred = torch.max(outputs.data, 1)\n",
    "    model = model.train()\n",
    "    return pred.cpu().numpy()\n",
    "\n",
    "def score(model, X, y):\n",
    "    return np.mean(predict_class(model, X) == y)\n",
    "\n",
    "def predict(model, X, T=1000):\n",
    "    standard_pred = predict_class(model, X)\n",
    "    y1 = []\n",
    "    y2 = []\n",
    "    for _ in range(T):\n",
    "        _y1 = model(Variable(X.cuda())).cpu()\n",
    "        _y2 = F.softmax(_y1, dim=1)\n",
    "        y1.append(_y1.data.numpy())\n",
    "        y2.append(_y2.data.numpy())\n",
    "    return standard_pred, np.array(y1), np.array(y2)"
   ]
  },
  {
   "cell_type": "code",
   "execution_count": 5,
   "metadata": {},
   "outputs": [
    {
     "name": "stdout",
     "output_type": "stream",
     "text": [
      "LeNet(\n",
      "  (model): Sequential(\n",
      "    (conv1): Conv2d (1, 20, kernel_size=(5, 5), stride=(1, 1), padding=(2, 2))\n",
      "    (dropout1): Dropout2d(p=0.5)\n",
      "    (maxpool1): MaxPool2d(kernel_size=(2, 2), stride=(2, 2), dilation=(1, 1))\n",
      "    (conv2): Conv2d (20, 50, kernel_size=(5, 5), stride=(1, 1), padding=(2, 2))\n",
      "    (dropout2): Dropout2d(p=0.5)\n",
      "    (maxpool2): MaxPool2d(kernel_size=(2, 2), stride=(2, 2), dilation=(1, 1))\n",
      "    (flatten): Flatten(\n",
      "    )\n",
      "    (dense3): Linear(in_features=2450, out_features=500)\n",
      "    (relu3): ReLU()\n",
      "    (dropout3): Dropout(p=0.5)\n",
      "    (final): Linear(in_features=500, out_features=10)\n",
      "  )\n",
      ")\n",
      "Epoch 1 loss: 1.1765512890144707\n",
      "Epoch 30 loss: 0.062384041379700335\n",
      "Epoch 60 loss: 0.03598022286190407\n",
      "Epoch 90 loss: 0.025289509679748814\n",
      "Epoch 120 loss: 0.018099108675141324\n",
      "Epoch 150 loss: 0.015613067172356505\n",
      "Epoch 180 loss: 0.012091124243637138\n",
      "Epoch 210 loss: 0.010123401999410028\n",
      "Epoch 240 loss: 0.009247995932886341\n",
      "Epoch 270 loss: 0.008735214461332191\n",
      "Epoch 300 loss: 0.007847058973999928\n",
      "CPU times: user 27min 8s, sys: 3min 7s, total: 30min 15s\n",
      "Wall time: 30min 13s\n"
     ]
    }
   ],
   "source": [
    "%%time\n",
    "\n",
    "lenet1 = LeNetClassifier().fit(trainset)"
   ]
  },
  {
   "cell_type": "code",
   "execution_count": 6,
   "metadata": {},
   "outputs": [
    {
     "data": {
      "image/png": "[encoded data removed]",
      "text/plain": [
       "<matplotlib.figure.Figure at 0x7f899fb288d0>"
      ]
     },
     "metadata": {},
     "output_type": "display_data"
    }
   ],
   "source": [
    "plt.figure(figsize=(8, 1))\n",
    "\n",
    "gs = gridspec.GridSpec(1, 12)\n",
    "gs.update(wspace=0, hspace=0)\n",
    "\n",
    "for i in range(len(X1)):\n",
    "    plt.subplot(gs[i])\n",
    "    plt.imshow(X1.squeeze()[i], cmap='gray');\n",
    "    plt.axis('off');"
   ]
  },
  {
   "cell_type": "code",
   "execution_count": 7,
   "metadata": {},
   "outputs": [
    {
     "name": "stdout",
     "output_type": "stream",
     "text": [
      "Test score: 0.9925\n"
     ]
    }
   ],
   "source": [
    "print('Test score: {}'.format(score(lenet1.model, torch.from_numpy(X_test), y_test)))"
   ]
  },
  {
   "cell_type": "code",
   "execution_count": 8,
   "metadata": {},
   "outputs": [
    {
     "name": "stdout",
     "output_type": "stream",
     "text": [
      "[1 1 1 1 1 2 7 7 7 7 7 7]\n"
     ]
    }
   ],
   "source": [
    "y1_pred, y1_si, y1_so = predict(lenet1.model, torch.from_numpy(X1))\n",
    "print(y1_pred)"
   ]
  },
  {
   "cell_type": "code",
   "execution_count": 11,
   "metadata": {},
   "outputs": [
    {
     "data": {
      "image/png": "[encoded data removed]",
      "text/plain": [
       "<matplotlib.figure.Figure at 0x7f899f1ea9e8>"
      ]
     },
     "metadata": {},
     "output_type": "display_data"
    }
   ],
   "source": [
    "plt.figure(figsize=(10, 3))\n",
    "plt.subplot(1, 2, 1)\n",
    "plt.scatter(np.tile(np.arange(1, 13), y1_si.shape[0]), y1_si[:, :, 1].flatten(), \\\n",
    "            color='g', marker='_', linewidth=None, alpha=0.5, label='1');\n",
    "plt.scatter(np.tile(np.arange(1, 13), y1_si.shape[0]), y1_si[:, :, 7].flatten(), \\\n",
    "            color='r', marker='_', linewidth=None, alpha=0.5, label='7');\n",
    "plt.scatter(np.tile(np.arange(1, 13), y1_si.shape[0]), y1_si[:, :, 2].flatten(), \\\n",
    "            color='b', marker='_', linewidth=None, alpha=0.5, label='2');\n",
    "plt.title('Softmax input scatter');\n",
    "plt.legend(framealpha=0.7);\n",
    "\n",
    "plt.subplot(1, 2, 2)\n",
    "plt.scatter(np.tile(np.arange(1, 13), y1_so.shape[0]), y1_so[:, :, 1].flatten(), \\\n",
    "            color='g', marker='_', linewidth=None, alpha=0.5, label='1');\n",
    "plt.scatter(np.tile(np.arange(1, 13), y1_so.shape[0]), y1_so[:, :, 7].flatten(), \\\n",
    "            color='r', marker='_', linewidth=None, alpha=0.5, label='7');\n",
    "plt.scatter(np.tile(np.arange(1, 13), y1_so.shape[0]), y1_so[:, :, 2].flatten(), \\\n",
    "            color='b', marker='_', linewidth=None, alpha=0.5, label='2');\n",
    "plt.title('Softmax output scatter');\n",
    "plt.legend(framealpha=0.7);\n",
    "\n",
    "plt.tight_layout();"
   ]
  },
  {
   "cell_type": "code",
   "execution_count": null,
   "metadata": {
    "collapsed": true
   },
   "outputs": [],
   "source": []
  }
 ],
 "metadata": {
  "kernelspec": {
   "display_name": "Python 3",
   "language": "python",
   "name": "python3"
  },
  "language_info": {
   "codemirror_mode": {
    "name": "ipython",
    "version": 3
   },
   "file_extension": ".py",
   "mimetype": "text/x-python",
   "name": "python",
   "nbconvert_exporter": "python",
   "pygments_lexer": "ipython3",
   "version": "3.6.3"
  }
 },
 "nbformat": 4,
 "nbformat_minor": 2
}
